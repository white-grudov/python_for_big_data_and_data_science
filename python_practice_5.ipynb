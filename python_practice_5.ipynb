{
  "cells": [
    {
      "cell_type": "markdown",
      "metadata": {
        "id": "5qV_sehzFCTp"
      },
      "source": [
        "# I. OOP"
      ]
    },
    {
      "cell_type": "markdown",
      "metadata": {
        "id": "tx_U_hOALyfg"
      },
      "source": [
        "1. (6б). Створіть клас Animal, додайте три атрибути, один з яких має значення за замовчуванням та два методи на свій розсуд."
      ]
    },
    {
      "cell_type": "code",
      "execution_count": 21,
      "metadata": {
        "id": "-Vf895KaL88N"
      },
      "outputs": [],
      "source": [
        "class Animal:\n",
        "    def __init__(self, name: str, age: int, sound: str =\"Hello!\"):\n",
        "        self.name = name\n",
        "        self.age = age\n",
        "        self.sound = sound\n",
        "\n",
        "    def greeting(self):\n",
        "        print(f\"I am {self.name} and I am {self.age} years old.\")\n",
        "\n",
        "    def make_sound(self):\n",
        "        print(self.sound)"
      ]
    },
    {
      "cell_type": "markdown",
      "metadata": {
        "id": "X_UlOMB0L93w"
      },
      "source": [
        "2. (2б). Створіть два обʼєкти цього класу, де один з обʼєктів створюється із дефолтним значенням атрибуту. На одному обʼєкті отримайте значення його атрибуту, а на іншому викличте один з його методів."
      ]
    },
    {
      "cell_type": "code",
      "execution_count": 3,
      "metadata": {
        "id": "7gBu0ESOMCpG"
      },
      "outputs": [
        {
          "name": "stdout",
          "output_type": "stream",
          "text": [
            "I am Cow and I am 5 years old.\n"
          ]
        },
        {
          "data": {
            "text/plain": [
              "'Hello!'"
            ]
          },
          "execution_count": 3,
          "metadata": {},
          "output_type": "execute_result"
        }
      ],
      "source": [
        "cow = Animal(\"Cow\", 5, \"Moo!\")\n",
        "cow.greeting()\n",
        "\n",
        "human = Animal(\"Human\", 25)\n",
        "human.sound"
      ]
    },
    {
      "cell_type": "markdown",
      "metadata": {
        "id": "HoqSCZt1MHn5"
      },
      "source": [
        "3. (5б). Створіть клас, де атрибути мають різні рівні доступу. Спробуйте отримати їхні значення та опишіть результати."
      ]
    },
    {
      "cell_type": "code",
      "execution_count": 4,
      "metadata": {
        "id": "r9b3vJxBMSPV"
      },
      "outputs": [],
      "source": [
        "class TestClass:\n",
        "    def __init__(self):\n",
        "        self.public = \"I am public\"\n",
        "        self._protected = \"I am protected\"\n",
        "        self.__private = \"I am private\""
      ]
    },
    {
      "cell_type": "code",
      "execution_count": 5,
      "metadata": {},
      "outputs": [
        {
          "data": {
            "text/plain": [
              "'I am public'"
            ]
          },
          "execution_count": 5,
          "metadata": {},
          "output_type": "execute_result"
        }
      ],
      "source": [
        "test = TestClass()\n",
        "test.public # public attribute can be accessed without any restriction"
      ]
    },
    {
      "cell_type": "code",
      "execution_count": 8,
      "metadata": {},
      "outputs": [
        {
          "data": {
            "text/plain": [
              "'I am protected'"
            ]
          },
          "execution_count": 8,
          "metadata": {},
          "output_type": "execute_result"
        }
      ],
      "source": [
        "test._protected # protected attribute also can be accessed but it is not recommended"
      ]
    },
    {
      "cell_type": "code",
      "execution_count": 12,
      "metadata": {},
      "outputs": [
        {
          "name": "stdout",
          "output_type": "stream",
          "text": [
            "I am protected\n"
          ]
        }
      ],
      "source": [
        "class DerivedClass(TestClass):\n",
        "    def __init__(self):\n",
        "        super().__init__()\n",
        "        print(self._protected) # protected attribute can be accessed from derived class\n",
        "\n",
        "derived = DerivedClass()"
      ]
    },
    {
      "cell_type": "code",
      "execution_count": 13,
      "metadata": {},
      "outputs": [
        {
          "ename": "AttributeError",
          "evalue": "'TestClass' object has no attribute '__private'",
          "output_type": "error",
          "traceback": [
            "\u001b[1;31m---------------------------------------------------------------------------\u001b[0m",
            "\u001b[1;31mAttributeError\u001b[0m                            Traceback (most recent call last)",
            "Cell \u001b[1;32mIn[13], line 1\u001b[0m\n\u001b[1;32m----> 1\u001b[0m \u001b[43mtest\u001b[49m\u001b[38;5;241;43m.\u001b[39;49m\u001b[43m__private\u001b[49m \u001b[38;5;66;03m# private attribute cannot be accessed directly\u001b[39;00m\n",
            "\u001b[1;31mAttributeError\u001b[0m: 'TestClass' object has no attribute '__private'"
          ]
        }
      ],
      "source": [
        "test.__private # private attribute cannot be accessed directly"
      ]
    },
    {
      "cell_type": "code",
      "execution_count": 14,
      "metadata": {},
      "outputs": [
        {
          "ename": "AttributeError",
          "evalue": "'DerivedClass' object has no attribute '_DerivedClass__private'",
          "output_type": "error",
          "traceback": [
            "\u001b[1;31m---------------------------------------------------------------------------\u001b[0m",
            "\u001b[1;31mAttributeError\u001b[0m                            Traceback (most recent call last)",
            "Cell \u001b[1;32mIn[14], line 6\u001b[0m\n\u001b[0;32m      3\u001b[0m         \u001b[38;5;28msuper\u001b[39m()\u001b[38;5;241m.\u001b[39m\u001b[38;5;21m__init__\u001b[39m()\n\u001b[0;32m      4\u001b[0m         \u001b[38;5;28mprint\u001b[39m(\u001b[38;5;28mself\u001b[39m\u001b[38;5;241m.\u001b[39m__private) \u001b[38;5;66;03m# private attribute cannot be accessed from derived class\u001b[39;00m\n\u001b[1;32m----> 6\u001b[0m derived \u001b[38;5;241m=\u001b[39m \u001b[43mDerivedClass\u001b[49m\u001b[43m(\u001b[49m\u001b[43m)\u001b[49m\n",
            "Cell \u001b[1;32mIn[14], line 4\u001b[0m, in \u001b[0;36mDerivedClass.__init__\u001b[1;34m(self)\u001b[0m\n\u001b[0;32m      2\u001b[0m \u001b[38;5;28;01mdef\u001b[39;00m \u001b[38;5;21m__init__\u001b[39m(\u001b[38;5;28mself\u001b[39m):\n\u001b[0;32m      3\u001b[0m     \u001b[38;5;28msuper\u001b[39m()\u001b[38;5;241m.\u001b[39m\u001b[38;5;21m__init__\u001b[39m()\n\u001b[1;32m----> 4\u001b[0m     \u001b[38;5;28mprint\u001b[39m(\u001b[38;5;28;43mself\u001b[39;49m\u001b[38;5;241;43m.\u001b[39;49m\u001b[43m__private\u001b[49m)\n",
            "\u001b[1;31mAttributeError\u001b[0m: 'DerivedClass' object has no attribute '_DerivedClass__private'"
          ]
        }
      ],
      "source": [
        "class DerivedClass(TestClass):\n",
        "    def __init__(self):\n",
        "        super().__init__()\n",
        "        print(self.__private) # private attribute cannot be accessed from derived class\n",
        "\n",
        "derived = DerivedClass()"
      ]
    },
    {
      "cell_type": "markdown",
      "metadata": {
        "id": "5op2m2vgMSkZ"
      },
      "source": [
        "4. (7б). Як ви розумієте термін self? Для чого використовується метод __init __?"
      ]
    },
    {
      "cell_type": "markdown",
      "metadata": {
        "id": "DyiPqNRvMasx"
      },
      "source": [
        "`self` є посиланням на поточний об'єкт класу всередині методів самого класу. `__init__` - це конструктор класу, який використовується для ініціалізації та оголошення атрибутів."
      ]
    },
    {
      "cell_type": "markdown",
      "metadata": {
        "id": "-6X8EGfjMd2y"
      },
      "source": [
        "5. (9б). Створіть клас Фігура без атрибутів, з методом get_area для отримання площі фігури, що повертає 0 та __add __, який приймає self та other в якості аргументів, а повертає суму площин фігур self та other."
      ]
    },
    {
      "cell_type": "code",
      "execution_count": 15,
      "metadata": {
        "id": "4rvO_wYUMaEr"
      },
      "outputs": [],
      "source": [
        "class Figure:\n",
        "    def __init__(self):\n",
        "        pass\n",
        "\n",
        "    def get_area(self):\n",
        "        pass\n",
        "\n",
        "    def __add__(self, other: \"Figure\"):\n",
        "        return self.get_area() + other.get_area()"
      ]
    },
    {
      "cell_type": "markdown",
      "metadata": {
        "id": "SFcKnnv5Mo_z"
      },
      "source": [
        "6. (11б). Створіть 2 дочірніх класи від Фігури: Трикутник та Коло, які мають атрибути, необхідні для розрахунку площин. Визначте метод get_area в кожному з них так, щоби вони розраховували площу в залежності від формули для кожного типу фігури. Створіть обʼєкт класу Трикутник та обʼєкт класу Коло. Виконайте операцію суми за допомогою оператора + між ними."
      ]
    },
    {
      "cell_type": "code",
      "execution_count": 16,
      "metadata": {
        "id": "H3GVNr69Muf3"
      },
      "outputs": [
        {
          "data": {
            "text/plain": [
              "103.5"
            ]
          },
          "execution_count": 16,
          "metadata": {},
          "output_type": "execute_result"
        }
      ],
      "source": [
        "class Triangle(Figure):\n",
        "    def __init__(self, base: int, height: int):\n",
        "        self.base = base\n",
        "        self.height = height\n",
        "\n",
        "    def get_area(self):\n",
        "        return self.base * self.height / 2\n",
        "    \n",
        "class Circle(Figure):\n",
        "    def __init__(self, radius: int):\n",
        "        self.radius = radius\n",
        "\n",
        "    def get_area(self):\n",
        "        return 3.14 * self.radius ** 2\n",
        "    \n",
        "triangle = Triangle(10, 5)\n",
        "circle = Circle(5)\n",
        "\n",
        "triangle + circle"
      ]
    },
    {
      "cell_type": "markdown",
      "metadata": {
        "id": "HCvR206YMvLK"
      },
      "source": [
        "7. (3б). Продемонструйте різницю між isinstance та issubclass."
      ]
    },
    {
      "cell_type": "code",
      "execution_count": 20,
      "metadata": {
        "id": "L_V1bBvDM0GN"
      },
      "outputs": [
        {
          "name": "stdout",
          "output_type": "stream",
          "text": [
            "True True False\n",
            "True False False\n"
          ]
        }
      ],
      "source": [
        "# difference between isinstance and issubclass\n",
        "\n",
        "print(isinstance(triangle, Triangle), isinstance(triangle, Figure), isinstance(triangle, Circle))\n",
        "print(issubclass(Triangle, Figure), issubclass(Triangle, Circle), issubclass(Figure, Triangle))"
      ]
    },
    {
      "cell_type": "markdown",
      "metadata": {},
      "source": [
        "`isinstance` використовується для перевірки чи <b>об'єкт</b> належить класу (чи надкласу), у той час як `issubclass` використовується для перевірки чи <b>клас</b> є похідним класом іншого класу."
      ]
    },
    {
      "cell_type": "markdown",
      "metadata": {
        "id": "jjsaBZ-iM0Qq"
      },
      "source": [
        "8. (13б). Створіть клас BankAccount з приватними атрибутами balance та account_number. Реалізуйте методи поповнення та зняття коштів, забезпечивши належну інкапсуляцію. Підказка: використовуйте декоратори property та setter."
      ]
    },
    {
      "cell_type": "code",
      "execution_count": 22,
      "metadata": {
        "id": "xCvZ7lh8M7YA"
      },
      "outputs": [
        {
          "name": "stdout",
          "output_type": "stream",
          "text": [
            "1000\n",
            "4938232288\n",
            "Deposited 500 into account 4938232288\n",
            "1500\n",
            "Withdrew 200 from account 4938232288\n",
            "1300\n"
          ]
        }
      ],
      "source": [
        "class BankAccount:\n",
        "    def __init__(self, balance: int = 0):\n",
        "        self.__balance = balance\n",
        "        self.__account_number = self._generate_account_number()\n",
        "\n",
        "    @property\n",
        "    def balance(self):\n",
        "        return self.__balance\n",
        "\n",
        "    @property\n",
        "    def account_number(self):\n",
        "        return self.__account_number\n",
        "\n",
        "    def deposit(self, amount):\n",
        "        if amount > 0:\n",
        "            self.__balance += amount\n",
        "            print(f\"Deposited {amount} into account {self.__account_number}\")\n",
        "        else:\n",
        "            print(\"Deposit amount should be greater than zero.\")\n",
        "\n",
        "    def withdraw(self, amount):\n",
        "        if 0 < amount <= self.__balance:\n",
        "            self.__balance -= amount\n",
        "            print(f\"Withdrew {amount} from account {self.__account_number}\")\n",
        "        else:\n",
        "            print(\"Withdrawal amount exceeds balance or is invalid.\")\n",
        "\n",
        "    @staticmethod\n",
        "    def _generate_account_number():\n",
        "        import random\n",
        "        return ''.join(str(random.randint(0, 9)) for _ in range(10))\n",
        "    \n",
        "account = BankAccount(1000)\n",
        "print(account.balance)\n",
        "print(account.account_number)\n",
        "account.deposit(500)\n",
        "print(account.balance)\n",
        "account.withdraw(200)\n",
        "print(account.balance)"
      ]
    },
    {
      "cell_type": "markdown",
      "metadata": {
        "id": "tIzL2SJTM8ft"
      },
      "source": [
        "9. (11б). Створіть клас Library, який містить список об'єктів типу Book. Реалізуйте методи для додавання книги, видалення книги та відображення списку книг."
      ]
    },
    {
      "cell_type": "code",
      "execution_count": 24,
      "metadata": {
        "id": "HWxfJKLtNAUZ"
      },
      "outputs": [
        {
          "name": "stdout",
          "output_type": "stream",
          "text": [
            "Available books:\n",
            "Adding Book1 to the library.\n",
            "Adding Book2 to the library.\n",
            "Available books:\n",
            "Book1\n",
            "Book2\n",
            "Removing Book1 from the library.\n",
            "Available books:\n",
            "Book2\n"
          ]
        }
      ],
      "source": [
        "class Library:\n",
        "    def __init__(self, books: list = []):\n",
        "        self.books = books\n",
        "\n",
        "    def display_available_books(self):\n",
        "        print(\"Available books:\")\n",
        "        for book in self.books:\n",
        "            print(book)\n",
        "\n",
        "    def remove_book(self, requested_book: str):\n",
        "        if requested_book in self.books:\n",
        "            self.books.remove(requested_book)\n",
        "            print(f\"Removing {requested_book} from the library.\")\n",
        "        else:\n",
        "            print(f\"Sorry, {requested_book} is not available in the library.\")\n",
        "\n",
        "    def add_book(self, returned_book: str):\n",
        "        print(f\"Adding {returned_book} to the library.\")\n",
        "        self.books.append(returned_book)\n",
        "\n",
        "library = Library()\n",
        "library.display_available_books()\n",
        "\n",
        "library.add_book(\"Book1\")\n",
        "library.add_book(\"Book2\")\n",
        "library.display_available_books()\n",
        "\n",
        "library.remove_book(\"Book1\")\n",
        "library.display_available_books()"
      ]
    },
    {
      "cell_type": "markdown",
      "metadata": {
        "id": "lmV8pAwwNIqu"
      },
      "source": [
        "10. (13б). Створіть клас Person з атрибутами name та age. Створіть ще один клас Employee з такими атрибутами, як department та salary. Створіть клас Manager, який успадковує обидва класи Person та Employee. Продемонструйте використання множинної спадковості, створивши обʼєкт класу Manager та отримавши mro для цього класу."
      ]
    },
    {
      "cell_type": "code",
      "execution_count": 25,
      "metadata": {
        "id": "R49grKlWNPeN"
      },
      "outputs": [
        {
          "name": "stdout",
          "output_type": "stream",
          "text": [
            "Manager's name: John\n",
            "Manager's age: 40\n",
            "Manager's department: Engineering\n",
            "Manager's salary: 100000\n",
            "Method resolution order (MRO) for Manager class:\n",
            "[<class '__main__.Manager'>, <class '__main__.Person'>, <class '__main__.Employee'>, <class 'object'>]\n"
          ]
        }
      ],
      "source": [
        "class Person:\n",
        "    def __init__(self, name, age):\n",
        "        self.name = name\n",
        "        self.age = age\n",
        "\n",
        "class Employee:\n",
        "    def __init__(self, department, salary):\n",
        "        self.department = department\n",
        "        self.salary = salary\n",
        "\n",
        "class Manager(Person, Employee):\n",
        "    def __init__(self, name, age, department, salary):\n",
        "        Person.__init__(self, name, age)\n",
        "        Employee.__init__(self, department, salary)\n",
        "\n",
        "manager = Manager(\"John\", 40, \"Engineering\", 100000)\n",
        "print(\"Manager's name:\", manager.name)\n",
        "print(\"Manager's age:\", manager.age)\n",
        "print(\"Manager's department:\", manager.department)\n",
        "print(\"Manager's salary:\", manager.salary)\n",
        "\n",
        "print(\"Method resolution order (MRO) for Manager class:\")\n",
        "print(Manager.mro())"
      ]
    },
    {
      "cell_type": "markdown",
      "metadata": {
        "id": "dIJyUiNBFG8G"
      },
      "source": [
        "# II. Iterator"
      ]
    },
    {
      "cell_type": "markdown",
      "metadata": {
        "id": "13vsm0NyKIzL"
      },
      "source": [
        "11. (4б). Визначте рядок(str) з 4ма різними за значенням символами. Створіть ітератор на основі цього рядка. Викличте 5 разів функцію next на ітераторі, 4ри перших з них огорніть у ф-цію print()."
      ]
    },
    {
      "cell_type": "code",
      "execution_count": 27,
      "metadata": {
        "id": "81ntabAkKuz-"
      },
      "outputs": [
        {
          "name": "stdout",
          "output_type": "stream",
          "text": [
            "a\n",
            "b\n",
            "c\n",
            "d\n",
            "StopIteration raised!\n"
          ]
        }
      ],
      "source": [
        "str = \"abcd\"\n",
        "\n",
        "my_iterator = iter(str)\n",
        "for i in range(5):\n",
        "    try:\n",
        "        char = next(my_iterator)\n",
        "        if i < 4:\n",
        "            print(char)\n",
        "    except StopIteration:\n",
        "        print(\"StopIteration raised!\")\n",
        "        break"
      ]
    },
    {
      "cell_type": "markdown",
      "metadata": {
        "id": "aekWHGXOLRsO"
      },
      "source": [
        "А що якщо викликати цю ж функцію на рядку?"
      ]
    },
    {
      "cell_type": "code",
      "execution_count": 29,
      "metadata": {
        "id": "mxATGsErLV1i"
      },
      "outputs": [
        {
          "ename": "TypeError",
          "evalue": "'str' object is not an iterator",
          "output_type": "error",
          "traceback": [
            "\u001b[1;31m---------------------------------------------------------------------------\u001b[0m",
            "\u001b[1;31mTypeError\u001b[0m                                 Traceback (most recent call last)",
            "Cell \u001b[1;32mIn[29], line 2\u001b[0m\n\u001b[0;32m      1\u001b[0m \u001b[38;5;28mstr\u001b[39m \u001b[38;5;241m=\u001b[39m \u001b[38;5;124m\"\u001b[39m\u001b[38;5;124mabcd\u001b[39m\u001b[38;5;124m\"\u001b[39m\n\u001b[1;32m----> 2\u001b[0m \u001b[38;5;28;43mnext\u001b[39;49m\u001b[43m(\u001b[49m\u001b[38;5;28;43mstr\u001b[39;49m\u001b[43m)\u001b[49m\n",
            "\u001b[1;31mTypeError\u001b[0m: 'str' object is not an iterator"
          ]
        }
      ],
      "source": [
        "str = \"abcd\"\n",
        "next(str)"
      ]
    },
    {
      "cell_type": "markdown",
      "metadata": {
        "id": "XwtMEopwJ4pH"
      },
      "source": [
        " 12. (5б). Опишіть своїми словами в одному реченні, як ви розумієте різницю між ітерабельними обʼєктами та ітераторами (можна на прикладі)."
      ]
    },
    {
      "cell_type": "markdown",
      "metadata": {
        "id": "-sHrODc3KFn8"
      },
      "source": [
        "Ітерабельний об'єкт - це об'єкт, по елементах яких можна пройтись (наприклад, циклом `for`). У цей час вони неявно генерують ітератор - об'єкт, який власне використовується для проходження, який послідовно повертає елементи та зберігає стан ітерації. Всі ітератори - ітерабельні об'єкти, але не навпаки. З ітерабельних об'єктів зазвичай можна отримати ітератор."
      ]
    },
    {
      "cell_type": "markdown",
      "metadata": {
        "id": "E9qJWmNbK8Gl"
      },
      "source": [
        "13. (11б). Створіть клас, що має визначений Iterator Protocol та при кожному виклику next повертає літери англійської абетки, поки вони не вичерпаються."
      ]
    },
    {
      "cell_type": "code",
      "execution_count": 31,
      "metadata": {
        "id": "cqx-g_RsLo6I"
      },
      "outputs": [
        {
          "name": "stdout",
          "output_type": "stream",
          "text": [
            "a b c d e f g h i j k l m n o p q r s t u v w x y z "
          ]
        }
      ],
      "source": [
        "class AlphabetIterator:\n",
        "    def __init__(self):\n",
        "        self.current_char = ord('a')\n",
        "    def __iter__(self):\n",
        "        return self\n",
        "\n",
        "    def __next__(self):\n",
        "        if self.current_char <= ord('z'):\n",
        "            char = chr(self.current_char)\n",
        "            self.current_char += 1\n",
        "            return char\n",
        "        else:\n",
        "            raise StopIteration\n",
        "\n",
        "alphabet_iter = AlphabetIterator()\n",
        "for _ in range(26):\n",
        "    print(next(alphabet_iter), end=\" \")"
      ]
    },
    {
      "cell_type": "markdown",
      "metadata": {
        "id": "Z3E3S_s1Fv7-"
      },
      "source": [
        "# Вітаю! Ви велика(ий) молодець, що впоралась(вся). Похваліть себе та побалуйте чимось приємним. Я Вами пишаюся."
      ]
    }
  ],
  "metadata": {
    "colab": {
      "provenance": []
    },
    "kernelspec": {
      "display_name": "Python 3",
      "name": "python3"
    },
    "language_info": {
      "codemirror_mode": {
        "name": "ipython",
        "version": 3
      },
      "file_extension": ".py",
      "mimetype": "text/x-python",
      "name": "python",
      "nbconvert_exporter": "python",
      "pygments_lexer": "ipython3",
      "version": "3.11.4"
    }
  },
  "nbformat": 4,
  "nbformat_minor": 0
}
